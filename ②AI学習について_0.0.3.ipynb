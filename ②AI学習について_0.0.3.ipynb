{
  "nbformat": 4,
  "nbformat_minor": 0,
  "metadata": {
    "colab": {
      "provenance": [],
      "toc_visible": true,
      "authorship_tag": "ABX9TyMb/8j4Y/hUNY0lxKS61hs+",
      "include_colab_link": true
    },
    "kernelspec": {
      "name": "python3",
      "display_name": "Python 3"
    },
    "language_info": {
      "name": "python"
    }
  },
  "cells": [
    {
      "cell_type": "markdown",
      "metadata": {
        "id": "view-in-github",
        "colab_type": "text"
      },
      "source": [
        "<a href=\"https://colab.research.google.com/github/1900690/pest-object-detection/blob/main/%E2%91%A1AI%E5%AD%A6%E7%BF%92%E3%81%AB%E3%81%A4%E3%81%84%E3%81%A6_0.0.3.ipynb\" target=\"_parent\"><img src=\"https://colab.research.google.com/assets/colab-badge.svg\" alt=\"Open In Colab\"/></a>"
      ]
    },
    {
      "cell_type": "markdown",
      "source": [
        "#**学習の事前準備を行う**"
      ],
      "metadata": {
        "id": "9SLyns-N0_bM"
      }
    },
    {
      "cell_type": "code",
      "source": [
        "\n",
        "\n",
        "#@title 1.学習画像をアップロード\n",
        "#@markdown   ”①AI学習用データ作成について”作成した画像をアップロード\n",
        "#〇ローカルから学習画像をアップロードする場合\n",
        "#ライブラリをインポート(機能を使えるようにする)\n",
        "import shutil\n",
        "import os\n",
        "from google.colab import files\n",
        "\n",
        "\n",
        "#スイッチ\n",
        "グーグルドライブからアップロード=False#@param {type:\"boolean\"}\n",
        "drive=グーグルドライブからアップロード\n",
        "ローカルからアップロード=True#@param {type:\"boolean\"}\n",
        "direct=ローカルからアップロード\n",
        "\n",
        "if direct==True:\n",
        "  #データをアップロード\n",
        "  uploaded = files.upload()\n",
        "  #データを解凍\n",
        "  shutil.unpack_archive('/content/datasets.zip', '/content/datasets')\n",
        "if drive==True:\n",
        "  #グーグルドライブに接続\n",
        "  drive.mount('/content/drive')\n",
        "  #グーグルドライブからcontentにコピー\n",
        "  shutil.copyfile(\"/content/drive/MyDrive/datasets.zip\",\"/content/datasets.zip\")\n",
        "  #データを解凍\n",
        "  shutil.unpack_archive('/content/datasets.zip', '/content/datasets')\n",
        "     "
      ],
      "metadata": {
        "cellView": "form",
        "id": "aZvdLQSL1Dwf"
      },
      "execution_count": null,
      "outputs": []
    },
    {
      "cell_type": "code",
      "source": [
        "#@title 2.パスなどを記載したファイルを作成\n",
        "%%writefile /content/data.yaml\n",
        "# COCO 2017 dataset http://cocodataset.org\n",
        "\n",
        "# train and val data as 1) directory: path/images/, 2) file: path/images.txt, or 3) list: [path1/images/, path2/images/]\n",
        "train: ./mite/train\n",
        "val: ./mite/valid\n",
        "\n",
        "# number of classes\n",
        "nc: 1\n",
        "\n",
        "# class names\n",
        "names: ['mite']"
      ],
      "metadata": {
        "cellView": "form",
        "id": "BFLnbptG1Iio"
      },
      "execution_count": null,
      "outputs": []
    },
    {
      "cell_type": "code",
      "source": [
        "#@title 3.ultralytics(AIモデル)をインストール\n",
        "%pip -q install ultralytics\n",
        "import ultralytics\n",
        "ultralytics.checks()"
      ],
      "metadata": {
        "cellView": "form",
        "id": "nfkGK-NH1Mjh"
      },
      "execution_count": null,
      "outputs": []
    },
    {
      "cell_type": "markdown",
      "source": [
        "#**学習開始**"
      ],
      "metadata": {
        "id": "NgkeH03O1fbs"
      }
    },
    {
      "cell_type": "code",
      "source": [
        "#初めから\n",
        "#スイッチ\n",
        "モデルタイプ=\"yolov8x.pt\"#@param [\"yolov8n.pt\", \"yolov8s.pt\", \"yolov8m.pt\", \"yolov8l.pt\", \"yolov8x.pt\"]\n",
        "\n",
        "#キャッチを消しておく\n",
        "import os\n",
        "if os.path.exists(\"/content/datasets/mite/train/labels.cache\"):\n",
        "    os.remove(\"/content/datasets/mite/train/labels.cache\")\n",
        "if os.path.exists(\"/content/datasets/mite/valid/labels.cache\"):\n",
        "    os.remove(\"/content/datasets/mite/valid/labels.cache\")\n",
        "\n",
        "%cd '/content/'\n",
        "if モデルタイプ==\"yolov8n.pt\":\n",
        "  !yolo task=detect mode=train model=yolov8n.pt data=data.yaml epochs=10 imgsz=640 conf=0.7\n",
        "if モデルタイプ==\"yolov8s.pt\":\n",
        "  !yolo task=detect mode=train model=yolov8s.pt data=data.yaml epochs=10 imgsz=640 conf=0.7\n",
        "if モデルタイプ==\"yolov8m.pt\":\n",
        "  !yolo task=detect mode=train model=yolov8m.pt data=data.yaml epochs=10 imgsz=640 conf=0.7\n",
        "if モデルタイプ==\"yolov8l.pt\":\n",
        "  !yolo task=detect mode=train model=yolov8l.pt data=data.yaml epochs=10 imgsz=640 conf=0.7\n",
        "if モデルタイプ==\"yolov8x.pt\":\n",
        "  !yolo task=detect mode=train model=yolov8x.pt data=data.yaml epochs=10 imgsz=640 conf=0.7"
      ],
      "metadata": {
        "cellView": "form",
        "id": "hhPkNeJo1YTP"
      },
      "execution_count": null,
      "outputs": []
    }
  ]
}