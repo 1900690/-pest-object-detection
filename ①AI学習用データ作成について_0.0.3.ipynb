{
  "nbformat": 4,
  "nbformat_minor": 0,
  "metadata": {
    "colab": {
      "provenance": [],
      "toc_visible": true,
      "authorship_tag": "ABX9TyOfIU8CqXS95xKnVRKidQoa",
      "include_colab_link": true
    },
    "kernelspec": {
      "name": "python3",
      "display_name": "Python 3"
    },
    "language_info": {
      "name": "python"
    }
  },
  "cells": [
    {
      "cell_type": "markdown",
      "metadata": {
        "id": "view-in-github",
        "colab_type": "text"
      },
      "source": [
        "<a href=\"https://colab.research.google.com/github/1900690/pest-object-detection/blob/main/%E2%91%A0AI%E5%AD%A6%E7%BF%92%E7%94%A8%E3%83%87%E3%83%BC%E3%82%BF%E4%BD%9C%E6%88%90%E3%81%AB%E3%81%A4%E3%81%84%E3%81%A6_0.0.3.ipynb\" target=\"_parent\"><img src=\"https://colab.research.google.com/assets/colab-badge.svg\" alt=\"Open In Colab\"/></a>"
      ]
    },
    {
      "cell_type": "markdown",
      "source": [
        "更新履歴\n",
        "\n",
        "バージョン 0.0.1 製作開始"
      ],
      "metadata": {
        "id": "juGoquqla7GJ"
      }
    },
    {
      "cell_type": "markdown",
      "source": [
        "#**AIの学習に用いる画像の作り方**"
      ],
      "metadata": {
        "id": "D7VfaYZoZrY0"
      }
    },
    {
      "cell_type": "markdown",
      "source": [
        "## 1.学習に用いる画像を用意する\n",
        "\n",
        "\n",
        "*   学習に使う画像はできるだけ多いほうが良い、検出するものに対し約１０００枚必要\n",
        "\n",
        "　　　[出典:YOLOv3の独自モデル学習の勘所](https://www.nakasha.co.jp/future/ai/yolov3train.html#:~:text=%E3%81%A9%E3%82%8C%E3%81%8F%E3%82%89%E3%81%84%E3%81%AE,%E3%82%92%E6%B1%82%E3%82%81%E3%82%8B%E5%A0%B4%E5%90%88%EF%BC%89)\n",
        "*   ただし画像の枚数を後で増やす手段（[オーグメンテーション](https://www.codexa.net/data_augmentation_python_keras/#:~:text=CNN%E3%82%92%E6%A7%8B%E7%AF%89%EF%BC%89-,Data%20Augmentation%E3%81%A8%E3%81%AF,%E3%81%A6%E3%81%84%E3%81%BE%E3%81%99%E3%80%82%EF%BC%88%E5%8F%82%E8%80%83%EF%BC%9A%E3%83%95%E3%83%AA%E3%83%BC%E5%86%99%E7%9C%9F%E7%B4%A0%E6%9D%90%E3%81%B1%E3%81%8F%E3%81%9F%E3%81%9D%EF%BC%89,-%E5%9B%B31%E3%81%AB)）もあるので初めは１００枚用意する位で良い\n",
        "\n"
      ],
      "metadata": {
        "id": "oVOrYccfZsog"
      }
    },
    {
      "cell_type": "markdown",
      "source": [
        "##2.画像にアノテーションする\n",
        "\n",
        "*   画像の中のどこに害虫がいるのか印をつける（これを[アノテーション](https://aismiley.co.jp/ai_news/what-is-annotation-that-is-often-heard-in-ai/#:~:text=%E3%83%BB%E7%94%BB%E5%83%8F%E3%83%BB%E6%98%A0%E5%83%8F%E3%83%87%E3%83%BC%E3%82%BF,%E3%81%AE%E4%B8%80%E3%81%A4%E3%81%A7%E3%81%99%E3%80%82)と言う）\n",
        "*   アノテーションを行うにはウェブサイトの[fastlabel](https://fastlabel.ai/)にアクセスし画像のアップロードを行う\n",
        "*   詳しいやり方は[fastlabelのクイックスタートドキュメント](https://docs.fastlabel.ai/docs/quick-start)を参照\n",
        "\n",
        "\n"
      ],
      "metadata": {
        "id": "nyPv27-UZwG4"
      }
    },
    {
      "cell_type": "markdown",
      "source": [
        "##3.アノテーション済みデータをダウンロード\n",
        "\n",
        "*   アノテーションが終わったらfastlabelから[データをエクスポート](https://docs.fastlabel.ai/docs/export-training-datasets)する\n",
        "*  **画像出力**の項目を **オリジナル**と **マスク－ダイレクトカラー**とすることでオリジナルの画像と[ダイレクトカラー画像](https://www.webtech.co.jp/blog/optpix_labs/pic101/3119/#:~:text=%E3%81%8C%E3%81%A7%E3%81%8D%E3%81%BE%E3%81%99%E3%80%82-,%E3%83%80%E3%82%A4%E3%83%AC%E3%82%AF%E3%83%88%E3%82%AB%E3%83%A9%E3%83%BC%E7%94%BB%E5%83%8F,%E8%89%B2%E6%83%85%E5%A0%B1%E3%82%92%0A%E7%9B%B4%E6%8E%A5%E6%8C%81%E3%81%A3%E3%81%A6%E3%81%84%E3%82%8B%E5%BD%A2%E5%BC%8F%E3%81%AE%E7%94%BB%E5%83%8F%E3%81%A7%E3%81%99%E3%80%82,-%E3%82%A6%E3%82%A7%E3%83%96%E3%81%A7%E4%BD%BF%E7%94%A8)をダウンロードすることができる\n",
        "*   ダイレクトカラー画像には害虫の印のデータが記録されている\n",
        "*   ダウンロードしたファイルは両方とも解凍しておく"
      ],
      "metadata": {
        "id": "VepOZwXcXz6I"
      }
    },
    {
      "cell_type": "markdown",
      "source": [
        "##4.データをgoogle colaboratoryに取り込み\n",
        "*   オリジナルの画像とダイレクトカラー画像をそれぞれgoogle colaboratoryにアップロードする\n",
        "*   各項目の![スクリーンショット (3).png](data:image/png;base64,iVBORw0KGgoAAAANSUhEUgAAAB4AAAAaCAYAAACgoey0AAAACXBIWXMAAA7EAAAOxAGVKw4bAAADvUlEQVRIia1Wv0szTRB+7vYul6BwnIEUSeFPtBBEOMtUNtpZphQb/zVLm3R2FoKNooGAVioIUSOJSn7c3d7uW+SdfXc3ifDBNxByx+3MM88zO7PrjEYjib+W5zk9Qgih3qWUcF0XUkr1Y4whz3MwxiCEUO+O48BxHAghDB96dl0XjDF4BJRlGfr9PqRUecw1Ckr//8V830cURVBeaZoaoJSpDqaDAlD/+jcppfFOsYQQ6gdgwjjPc4zHY7WY5NKBZoHprPWEHMeBlNKQnOKRucBE5sFgoGpADgQ0i4VtekJ68nopdF8PAEajkfGRGJLUNnsdyJbbVovY66opxnbmVF8KwDk3gum10pXRJSWVKBHO+TRj23Rneient7c3PD4+otVq4f39Ha7rYnl5GTs7O9ja2sLCwoLy8zxP+dOzwhiNRrLX6+Hn5we+76usKWPqUwC4v7/H+fk5Op0O8jwH51wFCoIA29vbaDQaKJfLYIyphKnvAYAxhnK5bDK2pWKMKclvb29xdnaGj4+Pf3JpjJIkwd3dHQaDAU5OTlCtVtUQ8n1flYWe53a/53mqRt1uFxcXFwZoGIYIwxDAZA+QMk9PT7i8vESaplMxqe1+BdZ38MPDA56fn43vcRyj0WigUqmogIwxJEmCdruNTqejpLXBfwUG/k2vz89PJEky9X1vbw+np6eI4xi+76uadzoddLtdA2iqC2yW+pikVuj3+8YBome/srKCg4MD1Go1taHG47GRqD7dyOZuLn3x0tISCoXCVN2GwyHa7TaazSZeX19VcouLiwiCYKaKpMDMPrYzXV1dRalUMoCTJEGz2cTV1RW+vr5UFwghUKvVUK1WAUzGsdrJGuu5wBRECIG1tTWsr6/j5uYGvu9DSonr62u1VkqJIAiQpimKxSJ2d3dRqVTU4JBSIs9zY4j8uqvJSqUSDg8Psbm5iSzLwDk3hgf1calUQhzHqNfrxrEqpVTtOXNX25tLCAHP88A5x8bGBo6Pj1Gv1xEEAYrFogL3PA9hGGJ/fx9HR0fG2NRNPySMkRkEgXGGErjukKYpXl5e0Gq1MBgM4HkeyuUy4jhGFEVq3JISxJhOKLqBzASeZVQjmuGu64JzPnXc0SAhQFvRIAgQRRE8u+jzjOa2LtksP/0c19naUruMsamxZt8y5t1A7HNZv4XqPrYqwN92yrIMANR1lRbptaIS6Pcrg4EVmE41qjnVWK0HJu1CzO0NoWdvs/2NtX6/tu9eijFl3Ov1MBwO8f39bfTp/22FQgF/AEaZ3ifjGKHvAAAAAElFTkSuQmCC)を押し、**ファイル選択**を押してアップロードする画像を選択する\n",
        "*   ダイレクトカラー画像のフォルダには[instance_segmentations](https://tt-tsukumochi.com/archives/3564#:~:text=%E3%81%8C%E5%8F%AF%E8%83%BD%E3%81%A7%E3%81%99%E3%80%82-,%E3%82%A4%E3%83%B3%E3%82%B9%E3%82%BF%E3%83%B3%E3%82%B9%20%E3%82%BB%E3%82%B0%E3%83%A1%E3%83%B3%E3%83%86%E3%83%BC%E3%82%B7%E3%83%A7%E3%83%B3,%E3%82%92%E5%88%A5%E3%80%85%E3%81%AE%E7%89%A9%E4%BD%93%E3%81%A8%E8%AA%8D%E8%AD%98%E3%81%99%E3%82%8B%E3%81%93%E3%81%A8%E3%81%8C%E5%8F%AF%E8%83%BD%E3%81%A7%E3%81%99%E3%80%82,-%E3%83%91%E3%83%8E%E3%83%97%E3%83%86%E3%82%A3%E3%83%83%E3%82%AF%20%E3%82%BB%E3%82%B0%E3%83%A1%E3%83%B3%E3%83%86%E3%83%BC%E3%82%B7%E3%83%A7%E3%83%B3)と[semantic_segmentations](https://tt-tsukumochi.com/archives/3564#:~:text=%E7%B4%B9%E4%BB%8B%E3%81%97%E3%81%BE%E3%81%99%E3%80%82-,%E3%82%BB%E3%83%9E%E3%83%B3%E3%83%86%E3%82%A3%E3%83%83%E3%82%AF%20%E3%82%BB%E3%82%B0%E3%83%A1%E3%83%B3%E3%83%86%E3%83%BC%E3%82%B7%E3%83%A7%E3%83%B3,%E3%81%AA%E3%81%A9%E4%B8%8D%E5%AE%9A%E5%BD%A2%E3%81%AE%E9%A0%98%E5%9F%9F%E3%82%92%E6%A4%9C%E5%87%BA%E3%81%99%E3%82%8B%E3%81%93%E3%81%A8%E3%81%8C%E5%8F%AF%E8%83%BD%E3%81%A7%E3%81%99%E3%80%82,-%E3%82%A4%E3%83%B3%E3%82%B9%E3%82%BF%E3%83%B3%E3%82%B9%20%E3%82%BB%E3%82%B0%E3%83%A1%E3%83%B3%E3%83%86%E3%83%BC%E3%82%B7%E3%83%A7%E3%83%B3)の二つがあるが必要なのはinstance_segmentationsの画像"
      ],
      "metadata": {
        "id": "EvhdVhCNbJiY"
      }
    },
    {
      "cell_type": "code",
      "source": [
        "#@title オリジナル画像をアップロード\n",
        "#ライブラリをインポート(機能を使えるようにする)\n",
        "import shutil\n",
        "import os\n",
        "\n",
        "#データを入れるためのフォルダを作成（すでにフォルダがある場合は消去する）\n",
        "if os.path.exists('/content/originals_test'):\n",
        "  shutil.rmtree('/content/originals_test')\n",
        "if not os.path.exists('/content/originals_test'):\n",
        "    os.makedirs('/content/originals_test')\n",
        "\n",
        "#カレントディレクトリを移動\n",
        "%cd -q '/content/originals_test/'\n",
        "\n",
        "#データをアップロード\n",
        "from google.colab import files\n",
        "uploaded = files.upload()\n",
        "\n",
        "#元のディレクトリに戻る\n",
        "%cd -q '/content/'"
      ],
      "metadata": {
        "id": "eZB5c94xdiiP",
        "outputId": "751f8bfe-498d-48a2-a82d-f2e6f917bea4",
        "colab": {
          "base_uri": "https://localhost:8080/",
          "height": 78
        }
      },
      "execution_count": 2,
      "outputs": [
        {
          "output_type": "display_data",
          "data": {
            "text/plain": [
              "<IPython.core.display.HTML object>"
            ],
            "text/html": [
              "\n",
              "     <input type=\"file\" id=\"files-65d5fd41-9051-40eb-95d9-783fb5b47e5e\" name=\"files[]\" multiple disabled\n",
              "        style=\"border:none\" />\n",
              "     <output id=\"result-65d5fd41-9051-40eb-95d9-783fb5b47e5e\">\n",
              "      Upload widget is only available when the cell has been executed in the\n",
              "      current browser session. Please rerun this cell to enable.\n",
              "      </output>\n",
              "      <script>// Copyright 2017 Google LLC\n",
              "//\n",
              "// Licensed under the Apache License, Version 2.0 (the \"License\");\n",
              "// you may not use this file except in compliance with the License.\n",
              "// You may obtain a copy of the License at\n",
              "//\n",
              "//      http://www.apache.org/licenses/LICENSE-2.0\n",
              "//\n",
              "// Unless required by applicable law or agreed to in writing, software\n",
              "// distributed under the License is distributed on an \"AS IS\" BASIS,\n",
              "// WITHOUT WARRANTIES OR CONDITIONS OF ANY KIND, either express or implied.\n",
              "// See the License for the specific language governing permissions and\n",
              "// limitations under the License.\n",
              "\n",
              "/**\n",
              " * @fileoverview Helpers for google.colab Python module.\n",
              " */\n",
              "(function(scope) {\n",
              "function span(text, styleAttributes = {}) {\n",
              "  const element = document.createElement('span');\n",
              "  element.textContent = text;\n",
              "  for (const key of Object.keys(styleAttributes)) {\n",
              "    element.style[key] = styleAttributes[key];\n",
              "  }\n",
              "  return element;\n",
              "}\n",
              "\n",
              "// Max number of bytes which will be uploaded at a time.\n",
              "const MAX_PAYLOAD_SIZE = 100 * 1024;\n",
              "\n",
              "function _uploadFiles(inputId, outputId) {\n",
              "  const steps = uploadFilesStep(inputId, outputId);\n",
              "  const outputElement = document.getElementById(outputId);\n",
              "  // Cache steps on the outputElement to make it available for the next call\n",
              "  // to uploadFilesContinue from Python.\n",
              "  outputElement.steps = steps;\n",
              "\n",
              "  return _uploadFilesContinue(outputId);\n",
              "}\n",
              "\n",
              "// This is roughly an async generator (not supported in the browser yet),\n",
              "// where there are multiple asynchronous steps and the Python side is going\n",
              "// to poll for completion of each step.\n",
              "// This uses a Promise to block the python side on completion of each step,\n",
              "// then passes the result of the previous step as the input to the next step.\n",
              "function _uploadFilesContinue(outputId) {\n",
              "  const outputElement = document.getElementById(outputId);\n",
              "  const steps = outputElement.steps;\n",
              "\n",
              "  const next = steps.next(outputElement.lastPromiseValue);\n",
              "  return Promise.resolve(next.value.promise).then((value) => {\n",
              "    // Cache the last promise value to make it available to the next\n",
              "    // step of the generator.\n",
              "    outputElement.lastPromiseValue = value;\n",
              "    return next.value.response;\n",
              "  });\n",
              "}\n",
              "\n",
              "/**\n",
              " * Generator function which is called between each async step of the upload\n",
              " * process.\n",
              " * @param {string} inputId Element ID of the input file picker element.\n",
              " * @param {string} outputId Element ID of the output display.\n",
              " * @return {!Iterable<!Object>} Iterable of next steps.\n",
              " */\n",
              "function* uploadFilesStep(inputId, outputId) {\n",
              "  const inputElement = document.getElementById(inputId);\n",
              "  inputElement.disabled = false;\n",
              "\n",
              "  const outputElement = document.getElementById(outputId);\n",
              "  outputElement.innerHTML = '';\n",
              "\n",
              "  const pickedPromise = new Promise((resolve) => {\n",
              "    inputElement.addEventListener('change', (e) => {\n",
              "      resolve(e.target.files);\n",
              "    });\n",
              "  });\n",
              "\n",
              "  const cancel = document.createElement('button');\n",
              "  inputElement.parentElement.appendChild(cancel);\n",
              "  cancel.textContent = 'Cancel upload';\n",
              "  const cancelPromise = new Promise((resolve) => {\n",
              "    cancel.onclick = () => {\n",
              "      resolve(null);\n",
              "    };\n",
              "  });\n",
              "\n",
              "  // Wait for the user to pick the files.\n",
              "  const files = yield {\n",
              "    promise: Promise.race([pickedPromise, cancelPromise]),\n",
              "    response: {\n",
              "      action: 'starting',\n",
              "    }\n",
              "  };\n",
              "\n",
              "  cancel.remove();\n",
              "\n",
              "  // Disable the input element since further picks are not allowed.\n",
              "  inputElement.disabled = true;\n",
              "\n",
              "  if (!files) {\n",
              "    return {\n",
              "      response: {\n",
              "        action: 'complete',\n",
              "      }\n",
              "    };\n",
              "  }\n",
              "\n",
              "  for (const file of files) {\n",
              "    const li = document.createElement('li');\n",
              "    li.append(span(file.name, {fontWeight: 'bold'}));\n",
              "    li.append(span(\n",
              "        `(${file.type || 'n/a'}) - ${file.size} bytes, ` +\n",
              "        `last modified: ${\n",
              "            file.lastModifiedDate ? file.lastModifiedDate.toLocaleDateString() :\n",
              "                                    'n/a'} - `));\n",
              "    const percent = span('0% done');\n",
              "    li.appendChild(percent);\n",
              "\n",
              "    outputElement.appendChild(li);\n",
              "\n",
              "    const fileDataPromise = new Promise((resolve) => {\n",
              "      const reader = new FileReader();\n",
              "      reader.onload = (e) => {\n",
              "        resolve(e.target.result);\n",
              "      };\n",
              "      reader.readAsArrayBuffer(file);\n",
              "    });\n",
              "    // Wait for the data to be ready.\n",
              "    let fileData = yield {\n",
              "      promise: fileDataPromise,\n",
              "      response: {\n",
              "        action: 'continue',\n",
              "      }\n",
              "    };\n",
              "\n",
              "    // Use a chunked sending to avoid message size limits. See b/62115660.\n",
              "    let position = 0;\n",
              "    do {\n",
              "      const length = Math.min(fileData.byteLength - position, MAX_PAYLOAD_SIZE);\n",
              "      const chunk = new Uint8Array(fileData, position, length);\n",
              "      position += length;\n",
              "\n",
              "      const base64 = btoa(String.fromCharCode.apply(null, chunk));\n",
              "      yield {\n",
              "        response: {\n",
              "          action: 'append',\n",
              "          file: file.name,\n",
              "          data: base64,\n",
              "        },\n",
              "      };\n",
              "\n",
              "      let percentDone = fileData.byteLength === 0 ?\n",
              "          100 :\n",
              "          Math.round((position / fileData.byteLength) * 100);\n",
              "      percent.textContent = `${percentDone}% done`;\n",
              "\n",
              "    } while (position < fileData.byteLength);\n",
              "  }\n",
              "\n",
              "  // All done.\n",
              "  yield {\n",
              "    response: {\n",
              "      action: 'complete',\n",
              "    }\n",
              "  };\n",
              "}\n",
              "\n",
              "scope.google = scope.google || {};\n",
              "scope.google.colab = scope.google.colab || {};\n",
              "scope.google.colab._files = {\n",
              "  _uploadFiles,\n",
              "  _uploadFilesContinue,\n",
              "};\n",
              "})(self);\n",
              "</script> "
            ]
          },
          "metadata": {}
        },
        {
          "output_type": "stream",
          "name": "stdout",
          "text": [
            "Saving DSC_0273_090.jpg to DSC_0273_090.jpg\n"
          ]
        }
      ]
    },
    {
      "cell_type": "code",
      "source": [
        "#@title ダイレクトカラー画像をアップロード\n",
        "#ライブラリをインポート(機能を使えるようにする)\n",
        "import shutil\n",
        "import os\n",
        "\n",
        "#データを入れるためのフォルダを作成（すでにフォルダがある場合は消去する）\n",
        "if os.path.exists('/content/instance_segmentations'):\n",
        "  shutil.rmtree('/content/instance_segmentations')\n",
        "if not os.path.exists('/content/instance_segmentations'):\n",
        "    os.makedirs('/content/instance_segmentations')\n",
        "\n",
        "#カレントディレクトリを移動\n",
        "%cd -q '/content/instance_segmentations'\n",
        "\n",
        "#データをアップロード\n",
        "from google.colab import files\n",
        "uploaded = files.upload()\n",
        "\n",
        "#元のディレクトリに戻る\n",
        "%cd -q '/content/'"
      ],
      "metadata": {
        "id": "sArObsgceZIH",
        "outputId": "7046d29c-e0cd-4c52-db1b-3d7d220acd5f",
        "colab": {
          "base_uri": "https://localhost:8080/",
          "height": 78
        }
      },
      "execution_count": 3,
      "outputs": [
        {
          "output_type": "display_data",
          "data": {
            "text/plain": [
              "<IPython.core.display.HTML object>"
            ],
            "text/html": [
              "\n",
              "     <input type=\"file\" id=\"files-852189ef-71f4-4f35-af55-b3c155812422\" name=\"files[]\" multiple disabled\n",
              "        style=\"border:none\" />\n",
              "     <output id=\"result-852189ef-71f4-4f35-af55-b3c155812422\">\n",
              "      Upload widget is only available when the cell has been executed in the\n",
              "      current browser session. Please rerun this cell to enable.\n",
              "      </output>\n",
              "      <script>// Copyright 2017 Google LLC\n",
              "//\n",
              "// Licensed under the Apache License, Version 2.0 (the \"License\");\n",
              "// you may not use this file except in compliance with the License.\n",
              "// You may obtain a copy of the License at\n",
              "//\n",
              "//      http://www.apache.org/licenses/LICENSE-2.0\n",
              "//\n",
              "// Unless required by applicable law or agreed to in writing, software\n",
              "// distributed under the License is distributed on an \"AS IS\" BASIS,\n",
              "// WITHOUT WARRANTIES OR CONDITIONS OF ANY KIND, either express or implied.\n",
              "// See the License for the specific language governing permissions and\n",
              "// limitations under the License.\n",
              "\n",
              "/**\n",
              " * @fileoverview Helpers for google.colab Python module.\n",
              " */\n",
              "(function(scope) {\n",
              "function span(text, styleAttributes = {}) {\n",
              "  const element = document.createElement('span');\n",
              "  element.textContent = text;\n",
              "  for (const key of Object.keys(styleAttributes)) {\n",
              "    element.style[key] = styleAttributes[key];\n",
              "  }\n",
              "  return element;\n",
              "}\n",
              "\n",
              "// Max number of bytes which will be uploaded at a time.\n",
              "const MAX_PAYLOAD_SIZE = 100 * 1024;\n",
              "\n",
              "function _uploadFiles(inputId, outputId) {\n",
              "  const steps = uploadFilesStep(inputId, outputId);\n",
              "  const outputElement = document.getElementById(outputId);\n",
              "  // Cache steps on the outputElement to make it available for the next call\n",
              "  // to uploadFilesContinue from Python.\n",
              "  outputElement.steps = steps;\n",
              "\n",
              "  return _uploadFilesContinue(outputId);\n",
              "}\n",
              "\n",
              "// This is roughly an async generator (not supported in the browser yet),\n",
              "// where there are multiple asynchronous steps and the Python side is going\n",
              "// to poll for completion of each step.\n",
              "// This uses a Promise to block the python side on completion of each step,\n",
              "// then passes the result of the previous step as the input to the next step.\n",
              "function _uploadFilesContinue(outputId) {\n",
              "  const outputElement = document.getElementById(outputId);\n",
              "  const steps = outputElement.steps;\n",
              "\n",
              "  const next = steps.next(outputElement.lastPromiseValue);\n",
              "  return Promise.resolve(next.value.promise).then((value) => {\n",
              "    // Cache the last promise value to make it available to the next\n",
              "    // step of the generator.\n",
              "    outputElement.lastPromiseValue = value;\n",
              "    return next.value.response;\n",
              "  });\n",
              "}\n",
              "\n",
              "/**\n",
              " * Generator function which is called between each async step of the upload\n",
              " * process.\n",
              " * @param {string} inputId Element ID of the input file picker element.\n",
              " * @param {string} outputId Element ID of the output display.\n",
              " * @return {!Iterable<!Object>} Iterable of next steps.\n",
              " */\n",
              "function* uploadFilesStep(inputId, outputId) {\n",
              "  const inputElement = document.getElementById(inputId);\n",
              "  inputElement.disabled = false;\n",
              "\n",
              "  const outputElement = document.getElementById(outputId);\n",
              "  outputElement.innerHTML = '';\n",
              "\n",
              "  const pickedPromise = new Promise((resolve) => {\n",
              "    inputElement.addEventListener('change', (e) => {\n",
              "      resolve(e.target.files);\n",
              "    });\n",
              "  });\n",
              "\n",
              "  const cancel = document.createElement('button');\n",
              "  inputElement.parentElement.appendChild(cancel);\n",
              "  cancel.textContent = 'Cancel upload';\n",
              "  const cancelPromise = new Promise((resolve) => {\n",
              "    cancel.onclick = () => {\n",
              "      resolve(null);\n",
              "    };\n",
              "  });\n",
              "\n",
              "  // Wait for the user to pick the files.\n",
              "  const files = yield {\n",
              "    promise: Promise.race([pickedPromise, cancelPromise]),\n",
              "    response: {\n",
              "      action: 'starting',\n",
              "    }\n",
              "  };\n",
              "\n",
              "  cancel.remove();\n",
              "\n",
              "  // Disable the input element since further picks are not allowed.\n",
              "  inputElement.disabled = true;\n",
              "\n",
              "  if (!files) {\n",
              "    return {\n",
              "      response: {\n",
              "        action: 'complete',\n",
              "      }\n",
              "    };\n",
              "  }\n",
              "\n",
              "  for (const file of files) {\n",
              "    const li = document.createElement('li');\n",
              "    li.append(span(file.name, {fontWeight: 'bold'}));\n",
              "    li.append(span(\n",
              "        `(${file.type || 'n/a'}) - ${file.size} bytes, ` +\n",
              "        `last modified: ${\n",
              "            file.lastModifiedDate ? file.lastModifiedDate.toLocaleDateString() :\n",
              "                                    'n/a'} - `));\n",
              "    const percent = span('0% done');\n",
              "    li.appendChild(percent);\n",
              "\n",
              "    outputElement.appendChild(li);\n",
              "\n",
              "    const fileDataPromise = new Promise((resolve) => {\n",
              "      const reader = new FileReader();\n",
              "      reader.onload = (e) => {\n",
              "        resolve(e.target.result);\n",
              "      };\n",
              "      reader.readAsArrayBuffer(file);\n",
              "    });\n",
              "    // Wait for the data to be ready.\n",
              "    let fileData = yield {\n",
              "      promise: fileDataPromise,\n",
              "      response: {\n",
              "        action: 'continue',\n",
              "      }\n",
              "    };\n",
              "\n",
              "    // Use a chunked sending to avoid message size limits. See b/62115660.\n",
              "    let position = 0;\n",
              "    do {\n",
              "      const length = Math.min(fileData.byteLength - position, MAX_PAYLOAD_SIZE);\n",
              "      const chunk = new Uint8Array(fileData, position, length);\n",
              "      position += length;\n",
              "\n",
              "      const base64 = btoa(String.fromCharCode.apply(null, chunk));\n",
              "      yield {\n",
              "        response: {\n",
              "          action: 'append',\n",
              "          file: file.name,\n",
              "          data: base64,\n",
              "        },\n",
              "      };\n",
              "\n",
              "      let percentDone = fileData.byteLength === 0 ?\n",
              "          100 :\n",
              "          Math.round((position / fileData.byteLength) * 100);\n",
              "      percent.textContent = `${percentDone}% done`;\n",
              "\n",
              "    } while (position < fileData.byteLength);\n",
              "  }\n",
              "\n",
              "  // All done.\n",
              "  yield {\n",
              "    response: {\n",
              "      action: 'complete',\n",
              "    }\n",
              "  };\n",
              "}\n",
              "\n",
              "scope.google = scope.google || {};\n",
              "scope.google.colab = scope.google.colab || {};\n",
              "scope.google.colab._files = {\n",
              "  _uploadFiles,\n",
              "  _uploadFilesContinue,\n",
              "};\n",
              "})(self);\n",
              "</script> "
            ]
          },
          "metadata": {}
        },
        {
          "output_type": "stream",
          "name": "stdout",
          "text": [
            "Saving DSC_0273_090.png to DSC_0273_090.png\n"
          ]
        }
      ]
    },
    {
      "cell_type": "markdown",
      "source": [
        "##5.画像の背景を消去する\n",
        "*   画像の背景は物体検出を行う際の精度低下の原因となるため取り除く\n",
        "\n",
        "　　　[出典:物体認識における背景の有無による学習効果に関する考察](https://www.osaka-kyoiku.ac.jp/~challeng/SIG-Challenge-044/SigChallenge-044-06.pdf)\n",
        "*   pythonで使える[rembg](https://github.com/danielgatis/rembg)という[ライブラリ](https://wa3.i-3-i.info/word1473.html#:~:text=%E3%83%A9%E3%82%A4%E3%83%96%E3%83%A9%E3%83%AA%EF%BC%88%E8%8B%B1%EF%BC%9Alibrary,%E3%81%A7%E3%81%99%E3%80%82)があるのでインストールして使用する\n",
        "\n"
      ],
      "metadata": {
        "id": "IhWeD8r-jJL_"
      }
    },
    {
      "cell_type": "code",
      "source": [
        "#@title rembgをインストール\n",
        "#rembgをインストール\n",
        "!pip -q install rembg\n",
        "#新しくインストールしたライブラリを働かせるためにランタイムを一度リセット\n",
        "exit()"
      ],
      "metadata": {
        "cellView": "form",
        "id": "Fz8i1IlyoFLg",
        "outputId": "1c99fb01-67b1-4dda-a3db-9e7579468e12",
        "colab": {
          "base_uri": "https://localhost:8080/"
        }
      },
      "execution_count": 4,
      "outputs": [
        {
          "output_type": "stream",
          "name": "stdout",
          "text": [
            "\u001b[2K     \u001b[90m━━━━━━━━━━━━━━━━━━━━━━━━━━━━━━━━━━━━━━━━\u001b[0m \u001b[32m1.0/1.0 MB\u001b[0m \u001b[31m8.3 MB/s\u001b[0m eta \u001b[36m0:00:00\u001b[0m\n",
            "\u001b[2K     \u001b[90m━━━━━━━━━━━━━━━━━━━━━━━━━━━━━━━━━━━━━━━━\u001b[0m \u001b[32m3.4/3.4 MB\u001b[0m \u001b[31m35.9 MB/s\u001b[0m eta \u001b[36m0:00:00\u001b[0m\n",
            "\u001b[2K     \u001b[90m━━━━━━━━━━━━━━━━━━━━━━━━━━━━━━━━━━━━━━━\u001b[0m \u001b[32m45.7/45.7 kB\u001b[0m \u001b[31m936.7 kB/s\u001b[0m eta \u001b[36m0:00:00\u001b[0m\n",
            "\u001b[2K     \u001b[90m━━━━━━━━━━━━━━━━━━━━━━━━━━━━━━━━━━━━━━\u001b[0m \u001b[32m296.5/296.5 kB\u001b[0m \u001b[31m27.3 MB/s\u001b[0m eta \u001b[36m0:00:00\u001b[0m\n",
            "\u001b[2K     \u001b[90m━━━━━━━━━━━━━━━━━━━━━━━━━━━━━━━━━━━━━━━━\u001b[0m \u001b[32m47.7/47.7 kB\u001b[0m \u001b[31m5.3 MB/s\u001b[0m eta \u001b[36m0:00:00\u001b[0m\n",
            "\u001b[2K     \u001b[90m━━━━━━━━━━━━━━━━━━━━━━━━━━━━━━━━━━━━━━━━\u001b[0m \u001b[32m5.0/5.0 MB\u001b[0m \u001b[31m19.4 MB/s\u001b[0m eta \u001b[36m0:00:00\u001b[0m\n",
            "\u001b[2K     \u001b[90m━━━━━━━━━━━━━━━━━━━━━━━━━━━━━━━━━━━━━━━━\u001b[0m \u001b[32m58.3/58.3 kB\u001b[0m \u001b[31m5.5 MB/s\u001b[0m eta \u001b[36m0:00:00\u001b[0m\n",
            "\u001b[2K     \u001b[90m━━━━━━━━━━━━━━━━━━━━━━━━━━━━━━━━━━━━━━━━\u001b[0m \u001b[32m57.0/57.0 kB\u001b[0m \u001b[31m5.4 MB/s\u001b[0m eta \u001b[36m0:00:00\u001b[0m\n",
            "\u001b[2K     \u001b[90m━━━━━━━━━━━━━━━━━━━━━━━━━━━━━━━━━━━━━━━━\u001b[0m \u001b[32m82.1/82.1 kB\u001b[0m \u001b[31m10.2 MB/s\u001b[0m eta \u001b[36m0:00:00\u001b[0m\n",
            "\u001b[2K     \u001b[90m━━━━━━━━━━━━━━━━━━━━━━━━━━━━━━━━━━━━━━━━\u001b[0m \u001b[32m17.3/17.3 MB\u001b[0m \u001b[31m41.6 MB/s\u001b[0m eta \u001b[36m0:00:00\u001b[0m\n",
            "\u001b[2K     \u001b[90m━━━━━━━━━━━━━━━━━━━━━━━━━━━━━━━━━━━━━━\u001b[0m \u001b[32m114.5/114.5 kB\u001b[0m \u001b[31m13.7 MB/s\u001b[0m eta \u001b[36m0:00:00\u001b[0m\n",
            "\u001b[2K     \u001b[90m━━━━━━━━━━━━━━━━━━━━━━━━━━━━━━━━━━━━━━\u001b[0m \u001b[32m149.6/149.6 kB\u001b[0m \u001b[31m16.2 MB/s\u001b[0m eta \u001b[36m0:00:00\u001b[0m\n",
            "\u001b[2K     \u001b[90m━━━━━━━━━━━━━━━━━━━━━━━━━━━━━━━━━━━━━━\u001b[0m \u001b[32m268.8/268.8 kB\u001b[0m \u001b[31m26.3 MB/s\u001b[0m eta \u001b[36m0:00:00\u001b[0m\n",
            "\u001b[2K     \u001b[90m━━━━━━━━━━━━━━━━━━━━━━━━━━━━━━━━━━━━━━━━\u001b[0m \u001b[32m66.9/66.9 kB\u001b[0m \u001b[31m7.1 MB/s\u001b[0m eta \u001b[36m0:00:00\u001b[0m\n",
            "\u001b[2K     \u001b[90m━━━━━━━━━━━━━━━━━━━━━━━━━━━━━━━━━━━━━━━━\u001b[0m \u001b[32m46.0/46.0 kB\u001b[0m \u001b[31m5.2 MB/s\u001b[0m eta \u001b[36m0:00:00\u001b[0m\n",
            "\u001b[2K     \u001b[90m━━━━━━━━━━━━━━━━━━━━━━━━━━━━━━━━━━━━━━━━\u001b[0m \u001b[32m58.3/58.3 kB\u001b[0m \u001b[31m6.7 MB/s\u001b[0m eta \u001b[36m0:00:00\u001b[0m\n",
            "\u001b[2K     \u001b[90m━━━━━━━━━━━━━━━━━━━━━━━━━━━━━━━━━━━━━━━━\u001b[0m \u001b[32m17.1/17.1 MB\u001b[0m \u001b[31m40.8 MB/s\u001b[0m eta \u001b[36m0:00:00\u001b[0m\n",
            "\u001b[2K     \u001b[90m━━━━━━━━━━━━━━━━━━━━━━━━━━━━━━━━━━━━━━━━\u001b[0m \u001b[32m86.8/86.8 kB\u001b[0m \u001b[31m9.2 MB/s\u001b[0m eta \u001b[36m0:00:00\u001b[0m\n",
            "\u001b[?25h"
          ]
        }
      ]
    },
    {
      "cell_type": "code",
      "source": [
        "#@title 背景消去を行う\n",
        "#ライブラリをインポート\n",
        "from rembg import remove\n",
        "import cv2\n",
        "import shutil\n",
        "import os\n",
        "\n",
        "#背景処理前の画像を分離するためにフォルダを作って移動させる\n",
        "if not os.path.exists('/content/originals/'):\n",
        "  shutil.copytree('/content/originals_test/','/content/originals/')\n",
        "  shutil.rmtree('/content/originals_test/')\n",
        "  os.mkdir('/content/originals_test/')\n",
        "read_folda_name='/content/originals/'\n",
        "read_folda = os.listdir(read_folda_name)\n",
        "\n",
        "#背景消去\n",
        "for imgname in read_folda:\n",
        "  input = cv2.imread('/content/originals/'+imgname)\n",
        "  output = remove(input)\n",
        "  cv2.imwrite('/content/originals_test/'+imgname, output)"
      ],
      "metadata": {
        "cellView": "form",
        "id": "Oi-uCi8Upil_",
        "outputId": "77dad43a-e48b-43db-dc8f-b42ee15796c3",
        "colab": {
          "base_uri": "https://localhost:8080/"
        }
      },
      "execution_count": 1,
      "outputs": [
        {
          "output_type": "stream",
          "name": "stderr",
          "text": [
            "Downloading data from 'https://github.com/danielgatis/rembg/releases/download/v0.0.0/u2net.onnx' to file '/root/.u2net/u2net.onnx'.\n",
            "100%|███████████████████████████████████████| 176M/176M [00:00<00:00, 91.9GB/s]\n"
          ]
        }
      ]
    },
    {
      "cell_type": "markdown",
      "source": [
        "#**学習に用いる画像を増やす**\n",
        "*   害虫は画像全体の面積に対して大きさがかなり小さい。今回使用するYOLOというAIは小さい物体を見つけ出すのが苦手である\n",
        "*   害虫の画像に対する大きさを大きくするために画像を分割し、分割後の画像から病害虫を見つけ出す方法がある\n",
        "\n",
        "　　　[出典：Evaluation of YOLO Models with Sliced Inference for Small Object Detection](https://deepsquare.jp/2022/05/sahi-experiment/)"
      ],
      "metadata": {
        "id": "n7cRImxerxxu"
      }
    },
    {
      "cell_type": "markdown",
      "source": [
        "##1.学習に使用する部分を切り取る\n",
        "*   画像を切り取る際の問題点\n",
        "    *   画像を等分すると、害虫の大きさが小さいため切り取った後の画像のほとんどが学習に使用できないものとなる（害虫が映っていない）\n",
        "    *   ただ切り取っただけだと学習画像の枚数を増やすことができない\n",
        "*   解決策\n",
        "    *   害虫を中心として切り取ることで必ず害虫が映っている画像とすることができる\n",
        "    *   切り取る際に中心部分からずらしたり、回転させたりすることで学習画像の枚数を増やす\n",
        "\n",
        "\n",
        "\n"
      ],
      "metadata": {
        "id": "PcC7siRMwcJN"
      }
    }
  ]
}