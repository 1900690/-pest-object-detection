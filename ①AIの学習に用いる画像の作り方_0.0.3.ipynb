{
  "nbformat": 4,
  "nbformat_minor": 0,
  "metadata": {
    "colab": {
      "provenance": [],
      "authorship_tag": "ABX9TyOHm1E3s3ru7yALyuDhEVr8",
      "include_colab_link": true
    },
    "kernelspec": {
      "name": "python3",
      "display_name": "Python 3"
    },
    "language_info": {
      "name": "python"
    }
  },
  "cells": [
    {
      "cell_type": "markdown",
      "metadata": {
        "id": "view-in-github",
        "colab_type": "text"
      },
      "source": [
        "<a href=\"https://colab.research.google.com/github/1900690/pest-object-detection/blob/main/%E2%91%A0AI%E3%81%AE%E5%AD%A6%E7%BF%92%E3%81%AB%E7%94%A8%E3%81%84%E3%82%8B%E7%94%BB%E5%83%8F%E3%81%AE%E4%BD%9C%E3%82%8A%E6%96%B9_0.0.3.ipynb\" target=\"_parent\"><img src=\"https://colab.research.google.com/assets/colab-badge.svg\" alt=\"Open In Colab\"/></a>"
      ]
    },
    {
      "cell_type": "code",
      "execution_count": null,
      "metadata": {
        "id": "YC-1ACcFYs3V"
      },
      "outputs": [],
      "source": []
    }
  ]
}