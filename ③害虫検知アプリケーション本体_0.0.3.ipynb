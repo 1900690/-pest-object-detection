{
  "nbformat": 4,
  "nbformat_minor": 0,
  "metadata": {
    "colab": {
      "provenance": [],
      "toc_visible": true,
      "authorship_tag": "ABX9TyNQTAC6bLI0qmi/8HRBAbpn",
      "include_colab_link": true
    },
    "kernelspec": {
      "name": "python3",
      "display_name": "Python 3"
    },
    "language_info": {
      "name": "python"
    }
  },
  "cells": [
    {
      "cell_type": "markdown",
      "metadata": {
        "id": "view-in-github",
        "colab_type": "text"
      },
      "source": [
        "<a href=\"https://colab.research.google.com/github/1900690/pest-object-detection/blob/main/%E2%91%A2%E5%AE%B3%E8%99%AB%E6%A4%9C%E7%9F%A5%E3%82%A2%E3%83%97%E3%83%AA%E3%82%B1%E3%83%BC%E3%82%B7%E3%83%A7%E3%83%B3%E6%9C%AC%E4%BD%93_0.0.3.ipynb\" target=\"_parent\"><img src=\"https://colab.research.google.com/assets/colab-badge.svg\" alt=\"Open In Colab\"/></a>"
      ]
    },
    {
      "cell_type": "markdown",
      "source": [
        "#**画像から検出を行う**"
      ],
      "metadata": {
        "id": "NxEXk5hW29U8"
      }
    },
    {
      "cell_type": "markdown",
      "source": [
        "##1.学習済みAIをアップロード"
      ],
      "metadata": {
        "id": "URJ41o0i4JsO"
      }
    },
    {
      "cell_type": "code",
      "execution_count": null,
      "metadata": {
        "id": "5oAutoTX1--J"
      },
      "outputs": [],
      "source": [
        "#ライブラリをインポート\n",
        "import shutil\n",
        "import os\n",
        "from google.colab import files\n",
        "\n",
        "#スイッチ\n",
        "ファイルをグーグルドライブからアップロード=False#@param {type:\"boolean\"}\n",
        "drive=ファイルをグーグルドライブからアップロード\n",
        "ローカルからアップロード=True#@param {type:\"boolean\"}\n",
        "direct=ローカルからアップロード\n",
        "\n",
        "if drive==True:\n",
        "  #グーグルドライブに接続\n",
        "  from google.colab import drive\n",
        "  drive.mount('/content/drive')\n",
        "  \n",
        "  #最終学習結果が格納されているパスを取得\n",
        "  result_folda_pass=\"/content/drive/MyDrive/pest-object-detection/runs/detect/\"\n",
        "  read_files_annotations = os.listdir(result_folda_pass)\n",
        "  read_files_annotations.sort(reverse=True)\n",
        "  result_pass=result_folda_pass+read_files_annotations[0]+\"/weights/best.pt\"\n",
        "  #グーグルドライブからcontentにコピー\n",
        "  shutil.copyfile(result_pass,\"/content/best.pt\")\n",
        "  \n",
        "if direct==True:\n",
        "  #データをアップロード\n",
        "　uploaded = files.upload()\n"
      ]
    }
  ]
}