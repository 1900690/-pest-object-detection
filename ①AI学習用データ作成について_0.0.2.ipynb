{
  "nbformat": 4,
  "nbformat_minor": 0,
  "metadata": {
    "colab": {
      "provenance": [],
      "toc_visible": true,
      "authorship_tag": "ABX9TyOFIEd9frgPvrMb75f0bC9m",
      "include_colab_link": true
    },
    "kernelspec": {
      "name": "python3",
      "display_name": "Python 3"
    },
    "language_info": {
      "name": "python"
    }
  },
  "cells": [
    {
      "cell_type": "markdown",
      "metadata": {
        "id": "view-in-github",
        "colab_type": "text"
      },
      "source": [
        "<a href=\"https://colab.research.google.com/github/1900690/pest-object-detection/blob/main/%E2%91%A0AI%E5%AD%A6%E7%BF%92%E7%94%A8%E3%83%87%E3%83%BC%E3%82%BF%E4%BD%9C%E6%88%90%E3%81%AB%E3%81%A4%E3%81%84%E3%81%A6_0.0.2.ipynb\" target=\"_parent\"><img src=\"https://colab.research.google.com/assets/colab-badge.svg\" alt=\"Open In Colab\"/></a>"
      ]
    },
    {
      "cell_type": "markdown",
      "source": [
        "更新履歴\n",
        "\n",
        "バージョン 0.0.1 製作開始"
      ],
      "metadata": {
        "id": "juGoquqla7GJ"
      }
    },
    {
      "cell_type": "markdown",
      "source": [
        "#AIの学習に用いる画像の作り方"
      ],
      "metadata": {
        "id": "D7VfaYZoZrY0"
      }
    },
    {
      "cell_type": "markdown",
      "source": [
        "##1.   学習に用いる画像を用意する\n",
        "\n",
        "\n",
        "*   学習に使う画像はできるだけ多いほうが良い、検出するものに対し約１０００枚必要　[出典:YOLOv3の独自モデル学習の勘所](https://www.nakasha.co.jp/future/ai/yolov3train.html#:~:text=%E3%81%A9%E3%82%8C%E3%81%8F%E3%82%89%E3%81%84%E3%81%AE,%E3%82%92%E6%B1%82%E3%82%81%E3%82%8B%E5%A0%B4%E5%90%88%EF%BC%89)\n",
        "*   ただし画像の枚数を後で増やす手段（[オーグメンテーション](https://www.codexa.net/data_augmentation_python_keras/#:~:text=CNN%E3%82%92%E6%A7%8B%E7%AF%89%EF%BC%89-,Data%20Augmentation%E3%81%A8%E3%81%AF,%E3%81%A6%E3%81%84%E3%81%BE%E3%81%99%E3%80%82%EF%BC%88%E5%8F%82%E8%80%83%EF%BC%9A%E3%83%95%E3%83%AA%E3%83%BC%E5%86%99%E7%9C%9F%E7%B4%A0%E6%9D%90%E3%81%B1%E3%81%8F%E3%81%9F%E3%81%9D%EF%BC%89,-%E5%9B%B31%E3%81%AB)）もあるので初めは１００枚用意する位で良い\n",
        "\n"
      ],
      "metadata": {
        "id": "oVOrYccfZsog"
      }
    },
    {
      "cell_type": "markdown",
      "source": [
        "##2.   画像に病害虫の位置をマーキング\n",
        "\n",
        "*   画像の中のどこに害虫がいるのか印をつける（これを[アノテーション](https://aismiley.co.jp/ai_news/what-is-annotation-that-is-often-heard-in-ai/#:~:text=%E3%83%BB%E7%94%BB%E5%83%8F%E3%83%BB%E6%98%A0%E5%83%8F%E3%83%87%E3%83%BC%E3%82%BF,%E3%81%AE%E4%B8%80%E3%81%A4%E3%81%A7%E3%81%99%E3%80%82)と言う）\n",
        "*   アノテーションを行うにはウェブサイトの[fastlabel](https://fastlabel.ai/)にアクセスし画像のアップロードを行う\n",
        "*   詳しいやり方は[fastlabelのクイックスタートドキュメント](https://docs.fastlabel.ai/docs/quick-start)を参照\n",
        "\n",
        "\n"
      ],
      "metadata": {
        "id": "nyPv27-UZwG4"
      }
    },
    {
      "cell_type": "code",
      "execution_count": null,
      "metadata": {
        "id": "B5QFIjOfZg2S"
      },
      "outputs": [],
      "source": []
    }
  ]
}